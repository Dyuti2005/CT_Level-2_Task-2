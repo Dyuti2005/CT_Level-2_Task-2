{
  "nbformat": 4,
  "nbformat_minor": 0,
  "metadata": {
    "colab": {
      "provenance": []
    },
    "kernelspec": {
      "name": "python3",
      "display_name": "Python 3"
    },
    "language_info": {
      "name": "python"
    }
  },
  "cells": [
    {
      "cell_type": "code",
      "execution_count": 12,
      "metadata": {
        "colab": {
          "base_uri": "https://localhost:8080/"
        },
        "id": "JuqSJJLhGi1l",
        "outputId": "c52dd2d1-0727-4ef8-80b8-0b5e0db29a10"
      },
      "outputs": [
        {
          "output_type": "stream",
          "name": "stdout",
          "text": [
            "🔸 Top 10 Cuisine Combinations with Ratings:\n",
            "                            Combo  Count  Average Rating\n",
            "0                    North Indian    936            1.67\n",
            "1           Chinese, North Indian    616            2.33\n",
            "2           Mughlai, North Indian    394            2.77\n",
            "3                       Fast Food    354            2.12\n",
            "4                         Chinese    354            2.04\n",
            "5  Chinese, Mughlai, North Indian    306            2.62\n",
            "6                            Cafe    299            2.89\n",
            "7                          Bakery    218            1.92\n",
            "8                Bakery, Desserts    181            2.38\n",
            "9              Chinese, Fast Food    159            2.07\n"
          ]
        }
      ],
      "source": [
        "import pandas as pd\n",
        "\n",
        "# STEP 1: Load the dataset\n",
        "df = pd.read_excel('Dataset .xlsx')\n",
        "\n",
        "# STEP 2: Clean missing values\n",
        "df = df.dropna(subset=['Cuisines', 'Aggregate rating'])\n",
        "\n",
        "# STEP 3: Standardize cuisine combinations\n",
        "# Strip spaces and sort cuisines alphabetically so \"Chinese, North Indian\" = \"North Indian, Chinese\"\n",
        "df['Cuisine Combo'] = df['Cuisines'].apply(lambda x: ', '.join(sorted([c.strip() for c in x.split(',')])))\n",
        "\n",
        "# STEP 4: Count most common combinations\n",
        "combo_counts = df['Cuisine Combo'].value_counts()\n",
        "top_combos = combo_counts.head(10)\n",
        "\n",
        "# STEP 5: Calculate average rating for each combo\n",
        "combo_ratings = df.groupby('Cuisine Combo')['Aggregate rating'].mean().round(2)\n",
        "\n",
        "# STEP 6: Combine counts and ratings into one DataFrame\n",
        "combo_df = pd.DataFrame({\n",
        "    'Combo': top_combos.index,\n",
        "    'Count': top_combos.values,\n",
        "    'Average Rating': top_combos.index.map(combo_ratings)\n",
        "})\n",
        "\n",
        "# STEP 7: Display result\n",
        "print(\"🔸 Top 10 Cuisine Combinations with Ratings:\")\n",
        "print(combo_df)\n"
      ]
    }
  ]
}